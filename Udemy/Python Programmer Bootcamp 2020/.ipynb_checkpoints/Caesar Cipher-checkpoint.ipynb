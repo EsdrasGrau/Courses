{
 "cells": [
  {
   "cell_type": "markdown",
   "metadata": {},
   "source": [
    "# Caesar Cipher"
   ]
  },
  {
   "cell_type": "code",
   "execution_count": null,
   "metadata": {},
   "outputs": [],
   "source": [
    "alphabet = 'abcdefghijklmnopqrstuvwxyz'"
   ]
  },
  {
   "cell_type": "code",
   "execution_count": null,
   "metadata": {},
   "outputs": [],
   "source": [
    "input_text = 'Hola'"
   ]
  },
  {
   "cell_type": "markdown",
   "metadata": {},
   "source": [
    "### First version"
   ]
  },
  {
   "cell_type": "code",
   "execution_count": 8,
   "metadata": {},
   "outputs": [
    {
     "name": "stdout",
     "output_type": "stream",
     "text": [
      "Do you wish to encrypt(e) or decrypt(d) a message?d\n",
      "Enter your message:Krol\n",
      "Enter the key number (1-26)\n",
      "3\n",
      "Your translated text is:\n",
      "Holi\n"
     ]
    }
   ],
   "source": [
    "# Caesar Cipher\n",
    "MAX_KEY_SIZE = 26\n",
    "\n",
    "def getMode():\n",
    "    while True:\n",
    "        mode = input('Do you wish to encrypt(e) or decrypt(d) a message?').lower()\n",
    "        if mode == 'e' or mode == 'd':\n",
    "            return mode\n",
    "        else:\n",
    "            print('Enter either \"e\" for \"encrypt\" or \"d\" \"decrypt\".')\n",
    "\n",
    "def getMessage():\n",
    "    return input('Enter your message:')\n",
    "\n",
    "def getKey():\n",
    "    key = 0\n",
    "    while True:\n",
    "        print('Enter the key number (1-%s)' % (MAX_KEY_SIZE))\n",
    "        key = int(input())\n",
    "        if (key >= 1 and key <= MAX_KEY_SIZE):\n",
    "            return key\n",
    "\n",
    "\n",
    "\n",
    "def getTranslatedMessage(mode, message, key):\n",
    "    if mode == 'd':\n",
    "        key = -key\n",
    "    translated = ''\n",
    "    for symbol in message:\n",
    "        if symbol.isalpha():\n",
    "            num = ord(symbol)\n",
    "            num += key\n",
    "\n",
    "            if symbol.isupper():\n",
    "                if num > ord('Z'):\n",
    "                    num -= 26\n",
    "                elif num < ord('A'):\n",
    "                    num += 26\n",
    "            elif symbol.islower():\n",
    "                if num > ord('z'):\n",
    "                    num -= 26\n",
    "                elif num < ord('a'):\n",
    "                    num += 26\n",
    "\n",
    "            translated += chr(num)\n",
    "        else:\n",
    "            translated += symbol\n",
    "    return translated\n",
    "\n",
    "mode = getMode()\n",
    "message = getMessage()\n",
    "key = getKey()\n",
    "\n",
    "print('Your translated text is:')\n",
    "\n",
    "print(getTranslatedMessage(mode, message, key))"
   ]
  }
 ],
 "metadata": {
  "kernelspec": {
   "display_name": "Python 3",
   "language": "python",
   "name": "python3"
  },
  "language_info": {
   "codemirror_mode": {
    "name": "ipython",
    "version": 3
   },
   "file_extension": ".py",
   "mimetype": "text/x-python",
   "name": "python",
   "nbconvert_exporter": "python",
   "pygments_lexer": "ipython3",
   "version": "3.7.6"
  }
 },
 "nbformat": 4,
 "nbformat_minor": 4
}
