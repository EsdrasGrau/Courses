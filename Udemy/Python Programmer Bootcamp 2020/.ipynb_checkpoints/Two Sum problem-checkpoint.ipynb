{
 "cells": [
  {
   "cell_type": "markdown",
   "metadata": {},
   "source": [
    "## Two Sum problem\n",
    "### You have an list of integers, return the indices of the pair of integers that add up to a given target\n",
    "###  Each input has one solution,\n",
    "#### Example [8,6,11,3] target 9 return [1,3]"
   ]
  },
  {
   "cell_type": "markdown",
   "metadata": {},
   "source": [
    "### First version"
   ]
  },
  {
   "cell_type": "code",
   "execution_count": 1,
   "metadata": {},
   "outputs": [
    {
     "name": "stdout",
     "output_type": "stream",
     "text": [
      "6 3\n"
     ]
    }
   ],
   "source": [
    "from itertools import combinations\n",
    "\n",
    "l = [8,6,11,3]\n",
    "\n",
    "for var in combinations(l, 2):\n",
    "    if var[0] + var[1] == 9:\n",
    "        print (var[0], var[1])"
   ]
  },
  {
   "cell_type": "code",
   "execution_count": 2,
   "metadata": {},
   "outputs": [
    {
     "name": "stdout",
     "output_type": "stream",
     "text": [
      "6 3\n",
      "The index: 1 3\n"
     ]
    }
   ],
   "source": [
    "from itertools import combinations\n",
    "\n",
    "l = [8,6,11,3]\n",
    "\n",
    "for var in combinations(l, 2):\n",
    "    if var[0] + var[1] == 9:\n",
    "        print (var[0], var[1])\n",
    "        index1 = l.index(var[0])\n",
    "        index2 = l.index(var[1])\n",
    "        print('The index:', index1, index2)\n",
    "        \n",
    "        \n"
   ]
  },
  {
   "cell_type": "markdown",
   "metadata": {},
   "source": [
    "### function"
   ]
  },
  {
   "cell_type": "code",
   "execution_count": 11,
   "metadata": {},
   "outputs": [],
   "source": [
    "def two_sum(nums, target):\n",
    "    for var in combinations(nums, 2):\n",
    "        if var[0] + var[1] == target:\n",
    "            print (var[0], var[1])\n",
    "            index1 = nums.index(var[0])\n",
    "            index2 = nums.index(var[1])\n",
    "            print('The index:', index1, index2)"
   ]
  },
  {
   "cell_type": "code",
   "execution_count": 12,
   "metadata": {},
   "outputs": [
    {
     "name": "stdout",
     "output_type": "stream",
     "text": [
      "6 3\n",
      "The index: 1 3\n",
      "None\n"
     ]
    }
   ],
   "source": [
    "L1 = [8,6,11,3]\n",
    "print(two_sum(L1,9))"
   ]
  },
  {
   "cell_type": "code",
   "execution_count": 13,
   "metadata": {},
   "outputs": [
    {
     "name": "stdout",
     "output_type": "stream",
     "text": [
      "3 7\n",
      "The index: 2 3\n",
      "None\n"
     ]
    }
   ],
   "source": [
    "L2 = [2,5,3,7,4]\n",
    "print(two_sum(L2,10))"
   ]
  },
  {
   "cell_type": "code",
   "execution_count": 15,
   "metadata": {},
   "outputs": [
    {
     "name": "stdout",
     "output_type": "stream",
     "text": [
      "3 3\n",
      "The index: 0 0\n",
      "None\n"
     ]
    }
   ],
   "source": [
    "L3 = [3,3]\n",
    "print(two_sum(L3, 6))"
   ]
  },
  {
   "cell_type": "code",
   "execution_count": null,
   "metadata": {},
   "outputs": [],
   "source": []
  }
 ],
 "metadata": {
  "kernelspec": {
   "display_name": "Python 3",
   "language": "python",
   "name": "python3"
  },
  "language_info": {
   "codemirror_mode": {
    "name": "ipython",
    "version": 3
   },
   "file_extension": ".py",
   "mimetype": "text/x-python",
   "name": "python",
   "nbconvert_exporter": "python",
   "pygments_lexer": "ipython3",
   "version": "3.7.6"
  }
 },
 "nbformat": 4,
 "nbformat_minor": 4
}
